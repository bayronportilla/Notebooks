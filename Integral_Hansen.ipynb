{
 "cells": [
  {
   "cell_type": "markdown",
   "metadata": {},
   "source": [
    "# Calcula numéricamente el valor exacto de los coeficientes de Hansen $X_k^{n,m}$ a través de la relación integral:\n",
    "$\\displaystyle X_k^{n,m}(e) = \\frac{1}{2\\pi}\\int_0^{2\\pi}(1-e\\cos E)^n\\cos \\left[2m\\tan^{-1}\\left(\\sqrt{\\frac{1+e}{1-e}}\\tan \\frac{E}{2} \\right) - k(E-e\\sin E) \\right](1-e\\cos E)dE$"
   ]
  },
  {
   "cell_type": "code",
   "execution_count": 236,
   "metadata": {
    "collapsed": false
   },
   "outputs": [],
   "source": [
    "import numpy as np\n",
    "from scipy.integrate import quadrature"
   ]
  },
  {
   "cell_type": "code",
   "execution_count": 288,
   "metadata": {
    "collapsed": false
   },
   "outputs": [],
   "source": [
    "# Constant values\n",
    "\n",
    "InRad = np.pi/180\n",
    "InDeg = 180/np.pi\n",
    "\n",
    "n = -4\n",
    "m = -5\n",
    "k = -5+(-6)\n",
    "\n",
    "a = 1.1\n",
    "e = 0.27\n",
    "f = (39)*InRad"
   ]
  },
  {
   "cell_type": "code",
   "execution_count": 289,
   "metadata": {
    "collapsed": false
   },
   "outputs": [],
   "source": [
    "# Function to integrate \n",
    "# Don't touch this!\n",
    "\n",
    "def integrand(E,n,m,k):\n",
    "    return 0.5/np.pi*(1-e*np.cos(E))**n*np.cos(2*m*np.arctan(np.sqrt((1+e)/(1-e))*np.tan(0.5*E)) -\\\n",
    "                                               k*(E-e*np.sin(E)))*(1-e*np.cos(E)) "
   ]
  },
  {
   "cell_type": "code",
   "execution_count": 290,
   "metadata": {
    "collapsed": false
   },
   "outputs": [
    {
     "name": "stdout",
     "output_type": "stream",
     "text": [
      "e           n   m   k            Value                     Error\n",
      "0.27000    -4   -5   -11    0.28362276335579745     5.65747659830861949e-09\n"
     ]
    }
   ],
   "source": [
    "# Print solution\n",
    "\n",
    "print \"e           n   m   k            Value                     Error\"\n",
    "print \"%1.5f    %d   %d   %d    %0.17f     %.17e\"%( e,n,m,k,\\\n",
    "                                                    quadrature(integrand,-np.pi,np.pi,args=(n,m,k),maxiter=1000)[0],\\\n",
    "                                                    quadrature(integrand,-np.pi,np.pi,args=(n,m,k),maxiter=1000)[1] )\n"
   ]
  },
  {
   "cell_type": "code",
   "execution_count": null,
   "metadata": {
    "collapsed": true
   },
   "outputs": [],
   "source": []
  },
  {
   "cell_type": "code",
   "execution_count": null,
   "metadata": {
    "collapsed": true
   },
   "outputs": [],
   "source": []
  }
 ],
 "metadata": {
  "kernelspec": {
   "display_name": "Python 2",
   "language": "python",
   "name": "python2"
  },
  "language_info": {
   "codemirror_mode": {
    "name": "ipython",
    "version": 2
   },
   "file_extension": ".py",
   "mimetype": "text/x-python",
   "name": "python",
   "nbconvert_exporter": "python",
   "pygments_lexer": "ipython2",
   "version": "2.7.12"
  }
 },
 "nbformat": 4,
 "nbformat_minor": 2
}
